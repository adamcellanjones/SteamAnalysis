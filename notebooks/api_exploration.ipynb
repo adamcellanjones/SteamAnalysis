{
 "cells": [
  {
   "cell_type": "code",
   "execution_count": 21,
   "metadata": {},
   "outputs": [],
   "source": [
    "import requests\n",
    "import json\n",
    "import pandas as pd"
   ]
  },
  {
   "cell_type": "code",
   "execution_count": 25,
   "metadata": {},
   "outputs": [],
   "source": [
    "with open(\"../apikey\", \"r\") as f:\n",
    "    apikey = f.read()"
   ]
  },
  {
   "cell_type": "markdown",
   "metadata": {},
   "source": [
    "# Steam API\n",
    "\n",
    "The official Steam API is largely undocumented. Reference from: https://github.com/Revadike/InternalSteamWebAPI/wiki/Get-App-Details\n",
    "\n",
    "Let's start with the GetAppList request"
   ]
  },
  {
   "cell_type": "code",
   "execution_count": 31,
   "metadata": {},
   "outputs": [
    {
     "data": {
      "text/plain": [
       "dict_keys(['apps', 'have_more_results', 'last_appid'])"
      ]
     },
     "execution_count": 31,
     "metadata": {},
     "output_type": "execute_result"
    }
   ],
   "source": [
    "url = f\"https://api.steampowered.com/IStoreService/GetAppList/v1/?key={apikey}\"\n",
    "\n",
    "response = requests.get(url).json()\n",
    "response['response'].keys()\n"
   ]
  },
  {
   "cell_type": "markdown",
   "metadata": {},
   "source": [
    "The response returns three objects: a list of apps, a boolean indicating whether there are more results, and the last app id returned (to use as a start point for the next request)"
   ]
  },
  {
   "cell_type": "code",
   "execution_count": 29,
   "metadata": {},
   "outputs": [
    {
     "data": {
      "text/html": [
       "<div>\n",
       "<style scoped>\n",
       "    .dataframe tbody tr th:only-of-type {\n",
       "        vertical-align: middle;\n",
       "    }\n",
       "\n",
       "    .dataframe tbody tr th {\n",
       "        vertical-align: top;\n",
       "    }\n",
       "\n",
       "    .dataframe thead th {\n",
       "        text-align: right;\n",
       "    }\n",
       "</style>\n",
       "<table border=\"1\" class=\"dataframe\">\n",
       "  <thead>\n",
       "    <tr style=\"text-align: right;\">\n",
       "      <th></th>\n",
       "      <th>name</th>\n",
       "      <th>last_modified</th>\n",
       "      <th>price_change_number</th>\n",
       "    </tr>\n",
       "    <tr>\n",
       "      <th>appid</th>\n",
       "      <th></th>\n",
       "      <th></th>\n",
       "      <th></th>\n",
       "    </tr>\n",
       "  </thead>\n",
       "  <tbody>\n",
       "    <tr>\n",
       "      <th>10</th>\n",
       "      <td>Counter-Strike</td>\n",
       "      <td>1666823513</td>\n",
       "      <td>22856550</td>\n",
       "    </tr>\n",
       "    <tr>\n",
       "      <th>20</th>\n",
       "      <td>Team Fortress Classic</td>\n",
       "      <td>1579634708</td>\n",
       "      <td>22856550</td>\n",
       "    </tr>\n",
       "    <tr>\n",
       "      <th>30</th>\n",
       "      <td>Day of Defeat</td>\n",
       "      <td>1512413490</td>\n",
       "      <td>22856550</td>\n",
       "    </tr>\n",
       "    <tr>\n",
       "      <th>40</th>\n",
       "      <td>Deathmatch Classic</td>\n",
       "      <td>1568752159</td>\n",
       "      <td>22856550</td>\n",
       "    </tr>\n",
       "    <tr>\n",
       "      <th>50</th>\n",
       "      <td>Half-Life: Opposing Force</td>\n",
       "      <td>1579628243</td>\n",
       "      <td>22856550</td>\n",
       "    </tr>\n",
       "    <tr>\n",
       "      <th>60</th>\n",
       "      <td>Ricochet</td>\n",
       "      <td>1599518374</td>\n",
       "      <td>22856550</td>\n",
       "    </tr>\n",
       "    <tr>\n",
       "      <th>70</th>\n",
       "      <td>Half-Life</td>\n",
       "      <td>1700269108</td>\n",
       "      <td>23366843</td>\n",
       "    </tr>\n",
       "    <tr>\n",
       "      <th>80</th>\n",
       "      <td>Counter-Strike: Condition Zero</td>\n",
       "      <td>1602535977</td>\n",
       "      <td>22856550</td>\n",
       "    </tr>\n",
       "    <tr>\n",
       "      <th>130</th>\n",
       "      <td>Half-Life: Blue Shift</td>\n",
       "      <td>1579629868</td>\n",
       "      <td>22856550</td>\n",
       "    </tr>\n",
       "    <tr>\n",
       "      <th>220</th>\n",
       "      <td>Half-Life 2</td>\n",
       "      <td>1699003213</td>\n",
       "      <td>22856550</td>\n",
       "    </tr>\n",
       "  </tbody>\n",
       "</table>\n",
       "</div>"
      ],
      "text/plain": [
       "                                 name  last_modified  price_change_number\n",
       "appid                                                                    \n",
       "10                     Counter-Strike     1666823513             22856550\n",
       "20              Team Fortress Classic     1579634708             22856550\n",
       "30                      Day of Defeat     1512413490             22856550\n",
       "40                 Deathmatch Classic     1568752159             22856550\n",
       "50          Half-Life: Opposing Force     1579628243             22856550\n",
       "60                           Ricochet     1599518374             22856550\n",
       "70                          Half-Life     1700269108             23366843\n",
       "80     Counter-Strike: Condition Zero     1602535977             22856550\n",
       "130             Half-Life: Blue Shift     1579629868             22856550\n",
       "220                       Half-Life 2     1699003213             22856550"
      ]
     },
     "execution_count": 29,
     "metadata": {},
     "output_type": "execute_result"
    }
   ],
   "source": [
    "applist = pd.DataFrame(data['response']['apps']).set_index('appid')\n",
    "applist.head(10)"
   ]
  },
  {
   "cell_type": "markdown",
   "metadata": {},
   "source": [
    "Now let's see what details we can get on individual games"
   ]
  },
  {
   "cell_type": "code",
   "execution_count": 40,
   "metadata": {},
   "outputs": [
    {
     "name": "stdout",
     "output_type": "stream",
     "text": [
      "dict_keys(['success', 'data'])\n"
     ]
    }
   ],
   "source": [
    "appid = applist.index[0]\n",
    "url = f\"https://store.steampowered.com/api/appdetails?appids={appid}\"\n",
    "\n",
    "response = requests.get(url).json()\n",
    "print(response[str(appid)].keys())\n",
    "\n",
    "game_data = response[str(appid)][\"data\"]"
   ]
  },
  {
   "cell_type": "code",
   "execution_count": 41,
   "metadata": {},
   "outputs": [
    {
     "data": {
      "text/plain": [
       "dict_keys(['type', 'name', 'steam_appid', 'required_age', 'is_free', 'detailed_description', 'about_the_game', 'short_description', 'supported_languages', 'header_image', 'capsule_image', 'capsule_imagev5', 'website', 'pc_requirements', 'mac_requirements', 'linux_requirements', 'developers', 'publishers', 'price_overview', 'packages', 'package_groups', 'platforms', 'metacritic', 'categories', 'genres', 'screenshots', 'recommendations', 'release_date', 'support_info', 'background', 'background_raw', 'content_descriptors', 'ratings'])"
      ]
     },
     "execution_count": 41,
     "metadata": {},
     "output_type": "execute_result"
    }
   ],
   "source": [
    "game_data.keys()"
   ]
  },
  {
   "cell_type": "markdown",
   "metadata": {},
   "source": [
    "# SteamSpy API\n",
    "\n",
    "SteamSpy is a third party service that collects stats on Steam games. This includes number of owners for games, estimated using a sampling methodology.\n",
    "\n",
    "Reference:\n",
    "* https://steamspy.com/about\n",
    "* https://steamspy.com/api.php\n",
    "\n",
    "## All games list\n",
    "We'll start with the all request which returns 1000 games at a time, sorted by number of owners"
   ]
  },
  {
   "cell_type": "code",
   "execution_count": 43,
   "metadata": {},
   "outputs": [],
   "source": [
    "url = \"https://steamspy.com/api.php?request=all&page=0\"\n",
    "response = requests.get(url).json()\n",
    "respoen"
   ]
  },
  {
   "cell_type": "code",
   "execution_count": null,
   "metadata": {},
   "outputs": [],
   "source": []
  }
 ],
 "metadata": {
  "kernelspec": {
   "display_name": "Python 3",
   "language": "python",
   "name": "python3"
  },
  "language_info": {
   "codemirror_mode": {
    "name": "ipython",
    "version": 3
   },
   "file_extension": ".py",
   "mimetype": "text/x-python",
   "name": "python",
   "nbconvert_exporter": "python",
   "pygments_lexer": "ipython3",
   "version": "3.11.7"
  }
 },
 "nbformat": 4,
 "nbformat_minor": 2
}
