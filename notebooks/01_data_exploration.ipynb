{
 "cells": [
  {
   "cell_type": "markdown",
   "metadata": {},
   "source": [
    "# Initial Data Exploration\n",
    "\n",
    "This notebook is used to carry out some exploratory analysis on a dataset of games available on Steam.\n",
    "\n",
    "We start by loading and combining the data."
   ]
  },
  {
   "cell_type": "code",
   "execution_count": null,
   "metadata": {},
   "outputs": [],
   "source": [
    "import pandas as pd\n",
    "import numpy as np\n",
    "\n",
    "all_games = pd.read_csv(\"../data/external/all_titles_20240617.csv\", index_col=\"appid\")\n",
    "game_dates = pd.read_csv(\"../data/external/game_dates.csv\", index_col=\"appid\").drop_duplicates()\n",
    "game_tags = pd.read_csv(\"../data/external/game_tags.csv\", index_col=\"appid\").drop_duplicates()\n",
    "\n",
    "# Clear up unnecessary columns formed from indexes in data pulling\n",
    "for df in [all_games, game_dates, game_tags]:\n",
    "    df.drop(columns=\"Unnamed: 0\", inplace=True)\n",
    "\n",
    "# Combine data into single dataset\n",
    "games = all_games.merge(game_dates, left_index=True, right_index=True)\n",
    "games = games.merge(game_tags, left_index=True, right_index=True)\n",
    "games.head(10)"
   ]
  },
  {
   "cell_type": "markdown",
   "metadata": {},
   "source": [
    "We have various data on games, including basic metadata (name, publisher, release date, genres and tags), number of owners in a range, and usage stats (average/median playtime, peak users yesterday - ccu).\n",
    "\n",
    "Let's look at the data types:"
   ]
  },
  {
   "cell_type": "code",
   "execution_count": null,
   "metadata": {},
   "outputs": [],
   "source": [
    "games.info()"
   ]
  },
  {
   "cell_type": "markdown",
   "metadata": {},
   "source": [
    "A couple of variables will need converting to more useful formats - the date and the owners."
   ]
  },
  {
   "cell_type": "code",
   "execution_count": null,
   "metadata": {},
   "outputs": [],
   "source": [
    "# Convert date to datetime data type\n",
    "games['date'] = pd.to_datetime(games['date'], errors=\"coerce\")\n",
    "\n",
    "# Add a year variable\n",
    "games['year'] = games['date'].dt.year"
   ]
  },
  {
   "cell_type": "code",
   "execution_count": null,
   "metadata": {},
   "outputs": [],
   "source": [
    "#Convert owners to ordered category data type\n",
    "from pandas.api.types import CategoricalDtype\n",
    "\n",
    "labels = games['owners'].unique()\n",
    "categories = sorted(labels, key=lambda x: int(x.split(\" .. \")[0].replace(\",\",\"\")))\n",
    "\n",
    "cat_type = CategoricalDtype(categories=categories, ordered=True)\n",
    "games['owners'] = games['owners'].astype(cat_type)"
   ]
  },
  {
   "cell_type": "code",
   "execution_count": null,
   "metadata": {},
   "outputs": [],
   "source": [
    "import seaborn as sns\n",
    "\n",
    "# Create histogram\n",
    "ax = sns.histplot(data=games, y=\"owners\")\n",
    "\n",
    "# Add labels\n",
    "for container in ax.containers:\n",
    "    ax.bar_label(container, fmt=\"{:,.0f}\", padding=5)\n",
    "\n",
    "# Increase x limit to fit labels\n",
    "_ = ax.set_xlim(ax.get_xlim()[0], ax.get_xlim()[1]*1.1)"
   ]
  },
  {
   "cell_type": "markdown",
   "metadata": {},
   "source": [
    "We can see that the vast majority of games have below 20,000 owners, with decreasing numbers of games in each larger size bucket. There are a handful of individual games in the largest owners buckets.\n",
    "\n",
    "Now looking at the tags, let's have a look at the frequencies"
   ]
  },
  {
   "cell_type": "code",
   "execution_count": null,
   "metadata": {},
   "outputs": [],
   "source": [
    "games.filter(like=\"tag\").stack().value_counts()[:40].plot.bar()"
   ]
  },
  {
   "cell_type": "markdown",
   "metadata": {},
   "source": [
    "A couple of observations:\n",
    "* The top 4 tags are very frequent, then there is a steep drop to the next four, another steep drop and then a much more gradual progression.\n",
    "* Most tags describing the genre or gameplay ('action', 'strategy', 'platformer'), but some describe other meta characteristics, graphical style, business model, or just vibes ('VR', 'Pixel Graphics', 'Indie', 'Early access', 'Cute')\n",
    "\n",
    "Finally, let's look at release dates:"
   ]
  },
  {
   "cell_type": "code",
   "execution_count": null,
   "metadata": {},
   "outputs": [],
   "source": [
    "import matplotlib.pyplot as plt\n",
    "\n",
    "fig, ax = plt.subplots()\n",
    "\n",
    "games.dropna(subset='year', inplace=True)\n",
    "games.groupby(games['year'])['name'].count().plot(kind = 'bar', ax=ax)\n",
    "\n",
    "# Label axes\n",
    "plt.xlabel(\"Year of release on Steam\")\n",
    "plt.ylabel(\"Number of games released\")\n"
   ]
  },
  {
   "cell_type": "markdown",
   "metadata": {},
   "source": [
    "Steam launched in 2003, and opened up to third party games in 2005. But we can see that the number of games being release on Steam really started taking off in 2014, and has accelerated signfiicantly since."
   ]
  },
  {
   "cell_type": "markdown",
   "metadata": {},
   "source": [
    "# Tags over time"
   ]
  },
  {
   "cell_type": "code",
   "execution_count": null,
   "metadata": {},
   "outputs": [],
   "source": [
    "# Make a table of tag rank by year\n",
    "all_tags = pd.concat([games['year'], games.filter(like=\"tag\")], axis=1)\n",
    "all_tags = all_tags.melt(id_vars='year', ignore_index=False, value_name='tag').drop(columns='variable')\n",
    "\n",
    "tags_per_year = all_tags.groupby('year').value_counts()\n",
    "tag_ranks_per_year = tags_per_year.groupby(level='year').rank(ascending=False, method='min')\n",
    "tag_ranks_per_year.name = 'rank'\n",
    "\n",
    "tag_ranks_per_year = pd.DataFrame(tag_ranks_per_year).reset_index()"
   ]
  },
  {
   "cell_type": "code",
   "execution_count": null,
   "metadata": {},
   "outputs": [],
   "source": [
    "top_5_tags_2023 = tag_ranks_per_year[(tag_ranks_per_year['year'] == 2023) & (tag_ranks_per_year['rank'] <= 5)]['tag'].values\n",
    "top_100_tags_2023 = tag_ranks_per_year[(tag_ranks_per_year['year'] == 2023) & (tag_ranks_per_year['rank'] <= 100)]['tag'].values"
   ]
  },
  {
   "cell_type": "code",
   "execution_count": null,
   "metadata": {},
   "outputs": [],
   "source": [
    "# Filter a DF that has the rank history for the top 5 tags in 2023\n",
    "top_5_tags_history = tag_ranks_per_year.query(\n",
    "    \"2008 <= year <= 2023 and tag in @top_5_tags_2023\"\n",
    ")\n",
    "\n",
    "# Line chart showing evolution over time\n",
    "g = sns.lineplot(\n",
    "    data = top_5_tags_history,\n",
    "    x = 'year',\n",
    "    y = 'rank',\n",
    "    hue = 'tag'\n",
    ")\n",
    "\n",
    "_ = g.invert_yaxis()"
   ]
  },
  {
   "cell_type": "markdown",
   "metadata": {},
   "source": [
    "There is some amount of variability over time, but it isn't huge - action, casual and adventure stay within the top 5 throughout the period, and puzzle and simulation drift more but remain in the top 10.\n",
    "\n",
    "To explore more than just the top 5, we'll use Plotly for an interactive plot that lets us pick which tags to draw out from the mass. Inspiration taken from the UK Office for National Statistics visualiser for baby name popularity: https://www.ons.gov.uk/visualisations/dvc363/babyindex.html"
   ]
  },
  {
   "cell_type": "code",
   "execution_count": null,
   "metadata": {},
   "outputs": [],
   "source": [
    "import plotly.express as px\n",
    "import plotly.graph_objects as go\n",
    "\n",
    "top_100_tags_history = tag_ranks_per_year.query(\n",
    "    \"2008 <= year <= 2023 and rank <= 100\"\n",
    ")\n",
    "\n",
    "# Set up a line chart\n",
    "# TO DO: change this to use Plotly Graph Objects instead of using Plotly Express \n",
    "fig = px.line(\n",
    "    top_100_tags_history,\n",
    "    x = 'year',\n",
    "    y = 'rank',\n",
    "    color = 'tag',\n",
    "    title = 'Tag popularity over time'\n",
    ")\n",
    "# Set all lines to grey and not shown on legend to begin with\n",
    "fig.update_traces(line_color='#e0e0e0', showlegend=False) \n",
    "\n",
    "# Reverse the y axis (so top-ranked on top)\n",
    "fig.update_yaxes(autorange='reversed')\n",
    "\n",
    "# Convert to a figure widget to enable click events\n",
    "fw = go.FigureWidget(fig)\n",
    "\n",
    "# Set up dictionary for tracking which lines are active\n",
    "active_lines = {trace.name: False for trace in fw.data}\n",
    "active_n = 0\n",
    "\n",
    "# Set up colour pallete\n",
    "palette = px.colors.qualitative.Plotly.copy()\n",
    "\n",
    "# Define click function to toggle clicked lines\n",
    "def toggle_line(trace, points, selector):\n",
    "    # Give function access to active_n variable outside of function scope\n",
    "    global active_n\n",
    "    \n",
    "    # Skip when point clicked was outside trace\n",
    "    if not points.point_inds:\n",
    "        return\n",
    "    \n",
    "    # Toggle \n",
    "    if trace.showlegend:\n",
    "        # Deactivate\n",
    "        palette.insert(0, trace.line.color) # return line colour to the palette\n",
    "        trace.line.color = '#e0e0e0'\n",
    "        trace.showlegend = False\n",
    "        #trace.zorder = 1\n",
    "        #trace.mode = 'lines'\n",
    "        active_n -= 1\n",
    "    else:\n",
    "        # activate\n",
    "        trace.line.color = palette.pop(0)\n",
    "        trace.showlegend = True\n",
    "        #trace.zorder = 20\n",
    "        #trace.mode = 'lines+markers'\n",
    "        active_n +=1\n",
    "        \n",
    "for trace in fw.data:\n",
    "    trace.on_click(toggle_line)\n",
    "fw"
   ]
  },
  {
   "cell_type": "code",
   "execution_count": null,
   "metadata": {},
   "outputs": [],
   "source": []
  }
 ],
 "metadata": {
  "kernelspec": {
   "display_name": "Python 3",
   "language": "python",
   "name": "python3"
  },
  "language_info": {
   "codemirror_mode": {
    "name": "ipython",
    "version": 3
   },
   "file_extension": ".py",
   "mimetype": "text/x-python",
   "name": "python",
   "nbconvert_exporter": "python",
   "pygments_lexer": "ipython3",
   "version": "3.12.2"
  }
 },
 "nbformat": 4,
 "nbformat_minor": 2
}
